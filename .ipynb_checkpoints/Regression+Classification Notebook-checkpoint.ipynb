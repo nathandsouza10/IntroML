{
 "cells": [
  {
   "cell_type": "code",
   "execution_count": 1,
   "id": "0e2735f3",
   "metadata": {},
   "outputs": [],
   "source": [
    "# Importing packages\n",
    "import numpy as np\n",
    "import random\n",
    "\n",
    "import matplotlib.pyplot as plt\n",
    "\n",
    "from scipy import optimize\n",
    "from sklearn import datasets as skdataset\n",
    "from sklearn.model_selection import train_test_split\n",
    "\n",
    "%matplotlib inline"
   ]
  },
  {
   "cell_type": "code",
   "execution_count": 2,
   "id": "929e9b36",
   "metadata": {},
   "outputs": [],
   "source": [
    "RAND_ST = 42\n",
    "random.seed(RAND_ST)"
   ]
  },
  {
   "cell_type": "markdown",
   "id": "44038a03",
   "metadata": {},
   "source": [
    "## Linear Fitting"
   ]
  },
  {
   "cell_type": "markdown",
   "id": "65027737",
   "metadata": {},
   "source": [
    "#### Normal equation solver"
   ]
  },
  {
   "cell_type": "code",
   "execution_count": 10,
   "id": "418dc71e",
   "metadata": {},
   "outputs": [],
   "source": [
    "def nsolve(X,y):\n",
    "    \"\"\"\n",
    "    nsolve returns the weights for multivariate linear regression\n",
    "\n",
    "    Arguments:\n",
    "    X : Data matrix\n",
    "    y : Labels\n",
    "\n",
    "    Returns:\n",
    "    w : Weights \n",
    "    \"\"\"\n",
    "\n",
    "    #begin_solution\n",
    "    X = np.c_[np.ones((X.shape[0],1)), X]\n",
    "    w = np.linalg.inv(X.T @ X) @ X.T @ y\n",
    "    #end_solution\n",
    "\n",
    "    return w"
   ]
  },
  {
   "cell_type": "markdown",
   "id": "69334571",
   "metadata": {},
   "source": [
    "#### Linear fit"
   ]
  },
  {
   "cell_type": "code",
   "execution_count": 9,
   "id": "e16e320d",
   "metadata": {},
   "outputs": [],
   "source": [
    "def line_fit(X,y):\n",
    "    \"\"\"\n",
    "    Write your implementation of line_fit here.\n",
    "\n",
    "    Arguments:\n",
    "    X : Data matrix\n",
    "    y : Labels\n",
    "\n",
    "    Returns:\n",
    "    w : Weights\n",
    "    l2_error : L2 Prediction error using learned w\n",
    "    \"\"\"\n",
    "\n",
    "    #begin_solution\n",
    "    w = nsolve(X, y)\n",
    "    y_preds = np.c_[np.ones((X.shape[0],1)), X] @ w\n",
    "    l2_error = (np.square(np.subtract(y, y_preds)).sum()) ** 0.5\n",
    "    #end_solution\n",
    "    \n",
    "    return w, l2_error"
   ]
  },
  {
   "cell_type": "code",
   "execution_count": null,
   "id": "fb7f9057",
   "metadata": {},
   "outputs": [],
   "source": []
  },
  {
   "cell_type": "markdown",
   "id": "220e1570",
   "metadata": {},
   "source": [
    "Testing code against sklearn implementation of linear regression"
   ]
  },
  {
   "cell_type": "code",
   "execution_count": null,
   "id": "c60924c6",
   "metadata": {},
   "outputs": [],
   "source": []
  }
 ],
 "metadata": {
  "kernelspec": {
   "display_name": "Python 3 (ipykernel)",
   "language": "python",
   "name": "python3"
  },
  "language_info": {
   "codemirror_mode": {
    "name": "ipython",
    "version": 3
   },
   "file_extension": ".py",
   "mimetype": "text/x-python",
   "name": "python",
   "nbconvert_exporter": "python",
   "pygments_lexer": "ipython3",
   "version": "3.9.12"
  }
 },
 "nbformat": 4,
 "nbformat_minor": 5
}
