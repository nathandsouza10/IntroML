{
 "cells": [
  {
   "cell_type": "code",
   "execution_count": 214,
   "id": "0e2735f3",
   "metadata": {},
   "outputs": [],
   "source": [
    "# Importing packages\n",
    "import numpy as np\n",
    "import random\n",
    "\n",
    "import matplotlib.pyplot as plt\n",
    "\n",
    "from scipy import optimize\n",
    "from sklearn import datasets\n",
    "from sklearn.model_selection import train_test_split\n",
    "\n",
    "%matplotlib inline"
   ]
  },
  {
   "cell_type": "code",
   "execution_count": 215,
   "id": "929e9b36",
   "metadata": {},
   "outputs": [],
   "source": [
    "RAND_ST = 21\n",
    "random.seed(RAND_ST)"
   ]
  },
  {
   "cell_type": "markdown",
   "id": "ac38522c",
   "metadata": {},
   "source": [
    "### Load Datasets"
   ]
  },
  {
   "cell_type": "code",
   "execution_count": 216,
   "id": "29d2c88f",
   "metadata": {},
   "outputs": [],
   "source": [
    "def load_iris():\n",
    "    iris = datasets.load_iris()\n",
    "    X = iris.data\n",
    "    Y = iris.target\n",
    "    return X, Y\n",
    "\n",
    "def load_mnist_dataset():\n",
    "    # Load the datadet from SkDataset\n",
    "    X, Y = skdataset.fetch_openml('mnist_784', version=1, return_X_y=True,as_frame=False)\n",
    "    Y = Y.astype(np.int64)\n",
    "    return X, Y"
   ]
  },
  {
   "cell_type": "code",
   "execution_count": 217,
   "id": "a9cca862",
   "metadata": {},
   "outputs": [],
   "source": [
    "X, Y = load_iris()\n",
    "X_iris, X_iris_test, Y_iris, Y_iris_test = train_test_split(X, Y, test_size=0.1, random_state=RAND_ST)"
   ]
  },
  {
   "cell_type": "code",
   "execution_count": 218,
   "id": "0134ea3e",
   "metadata": {},
   "outputs": [],
   "source": [
    "X, Y = load_mnist_dataset()\n",
    "X = X / 255.0\n",
    "X_mnist, X_mnist_test, Y_mnist, Y_mnist_test = train_test_split(X, Y, test_size=0.1, random_state=RAND_ST) # 90% training and 10% test"
   ]
  },
  {
   "cell_type": "markdown",
   "id": "92dec225",
   "metadata": {},
   "source": [
    "### Data Visualisation methods"
   ]
  },
  {
   "cell_type": "code",
   "execution_count": 219,
   "id": "fdc5d797",
   "metadata": {},
   "outputs": [],
   "source": [
    "def plot_eigenvecs(stacked_images, n_rows, n_columns):\n",
    "    n_images, n_dims = stacked_images.shape\n",
    "    plt.figure()\n",
    "    for i in range(n_rows*n_columns):\n",
    "        plt.subplot(n_rows, n_columns, i+1)\n",
    "        plt.imshow(np.reshape(stacked_images[i], [int(np.sqrt(n_dims)), int(np.sqrt(n_dims))]))\n",
    "        plt.axis('off')\n",
    "    plt.show()"
   ]
  },
  {
   "cell_type": "code",
   "execution_count": 220,
   "id": "96c29867",
   "metadata": {},
   "outputs": [],
   "source": [
    "def true_positive(Y_test, y_pred):\n",
    "    mask = (Y_test == 1)\n",
    "    tp = (Y_test[mask] == y_pred[mask]).sum()\n",
    "    return tp.item()\n",
    "\n",
    "def true_negative(Y_test, y_pred):\n",
    "    mask = (Y_test == 0) | (Y_test == -1)\n",
    "    tn = (Y_test[mask] == y_pred[mask]).sum()\n",
    "    return tn.item()\n",
    "\n",
    "def false_negative(Y_test, y_pred):\n",
    "    mask = (y_pred == 0) | (y_pred == -1)\n",
    "    tn = (Y_test[mask] != y_pred[mask]).sum()\n",
    "    return tn.item()\n",
    "\n",
    "def false_positive(Y_test, y_pred):\n",
    "    mask = (y_pred == 1)\n",
    "    tn = (Y_test[mask] != y_pred[mask]).sum()\n",
    "    return tn.item()\n",
    "\n",
    "def plot_confusion_matrix(Y_test, y_pred):\n",
    "    tp = true_positive(Y_test, y_pred)\n",
    "    tn = true_negative(Y_test, y_pred)\n",
    "    fp = false_positive(Y_test, y_pred)\n",
    "    fn = false_negative(Y_test, y_pred)\n",
    "    cf = np.array([[tn, fp], [fn, tp]])\n",
    "    fig, ax = plt.subplots()\n",
    "    ax.matshow(cf, cmap=plt.cm.Blues)\n",
    "    for i in range(2):\n",
    "        for j in range(2):\n",
    "            c = cf[i,j]\n",
    "            ax.text(j, i, str(c), va='center', ha='center')\n",
    "    plt.xlabel('Prediction')\n",
    "    plt.ylabel('Target')\n",
    "    plt.show()"
   ]
  },
  {
   "cell_type": "code",
   "execution_count": 221,
   "id": "0e4f65e6",
   "metadata": {},
   "outputs": [],
   "source": [
    "def plot_loss_curve(logs):\n",
    "    plt.plot(logs)\n",
    "    plt.show()"
   ]
  },
  {
   "cell_type": "markdown",
   "id": "44038a03",
   "metadata": {},
   "source": [
    "## Fitting"
   ]
  },
  {
   "cell_type": "markdown",
   "id": "65027737",
   "metadata": {},
   "source": [
    "#### Normal equation solver"
   ]
  },
  {
   "cell_type": "code",
   "execution_count": 222,
   "id": "418dc71e",
   "metadata": {},
   "outputs": [],
   "source": [
    "def nsolve(X,y):\n",
    "    X = np.c_[np.ones((X.shape[0],1)), X]\n",
    "    w = np.linalg.inv(X.T @ X) @ X.T @ y\n",
    "    return w"
   ]
  },
  {
   "cell_type": "markdown",
   "id": "1456841f",
   "metadata": {},
   "source": [
    "##### Test normal equation solver"
   ]
  },
  {
   "cell_type": "code",
   "execution_count": 94,
   "id": "5e28e852",
   "metadata": {},
   "outputs": [
    {
     "data": {
      "image/png": "[encoded data removed]",
      "text/plain": [
       "<Figure size 432x288 with 1 Axes>"
      ]
     },
     "metadata": {
      "needs_background": "light"
     },
     "output_type": "display_data"
    }
   ],
   "source": [
    "X = np.linspace(0,1000,50).reshape(50,1)\n",
    "y = (3 * X + 40) * np.random.randn(50, 1)\n",
    "w = nsolve(X,y)\n",
    "preds = np.c_[np.ones(X.shape[0]), X] @ w\n",
    "plt.plot(X,y, 'b.')\n",
    "plt.plot(X,preds,'r')\n",
    "plt.show()"
   ]
  },
  {
   "cell_type": "markdown",
   "id": "69334571",
   "metadata": {},
   "source": [
    "#### Linear fitting"
   ]
  },
  {
   "cell_type": "code",
   "execution_count": 95,
   "id": "e16e320d",
   "metadata": {},
   "outputs": [],
   "source": [
    "def line_fit(X,y):\n",
    "    w = nsolve(X, y)\n",
    "    y_hat = np.c_[np.ones((X.shape[0],1)), X] @ w\n",
    "    l2_error = (np.square(np.subtract(y, y_preds)).sum()) ** 0.5\n",
    "    return y_hat, l2_error"
   ]
  },
  {
   "cell_type": "code",
   "execution_count": null,
   "id": "7c44214b",
   "metadata": {},
   "outputs": [],
   "source": []
  },
  {
   "cell_type": "markdown",
   "id": "88747087",
   "metadata": {},
   "source": [
    "#### Polynomial fitting\n",
    "Second order polynomial fitting"
   ]
  },
  {
   "cell_type": "code",
   "execution_count": null,
   "id": "1c6dacd6",
   "metadata": {},
   "outputs": [],
   "source": [
    "def poly_fit(X,y):\n",
    "    matrix_cols = X.shape[1]\n",
    "    for i in range(matrix_cols):\n",
    "        for j in range(i, matrix_cols):\n",
    "            X = np.c_[X, X[:, i] * X[:, j]]\n",
    "            \n",
    "    w = nsolve(X, y)\n",
    "    y_hat = np.c_[np.ones(X.shape[0]), X] @ w\n",
    "    l2_error = np.linalg.norm(y-y_hat)\n",
    "    \n",
    "    return y_hat, l2_error"
   ]
  },
  {
   "cell_type": "code",
   "execution_count": null,
   "id": "2766955f",
   "metadata": {},
   "outputs": [],
   "source": []
  },
  {
   "cell_type": "markdown",
   "id": "e2540a2f",
   "metadata": {},
   "source": [
    "## Free form optimization methods"
   ]
  },
  {
   "cell_type": "markdown",
   "id": "065f539f",
   "metadata": {},
   "source": [
    "#### Gradient Descent"
   ]
  },
  {
   "cell_type": "code",
   "execution_count": 81,
   "id": "bbc073ab",
   "metadata": {},
   "outputs": [],
   "source": [
    "def gradient_descent(parameters, objective, d_objective, step_size, max_iterations, eps_change=1.0e-6):\n",
    "    minimizer  = parameters.copy()\n",
    "    current_it = 0\n",
    "    \n",
    "    previous_step_size = eps_change + 1\n",
    "    while (previous_step_size > eps_change) and (current_it < max_iterations):\n",
    "        prev_parameters = parameters.copy()\n",
    "        parameters = parameters - (step_size * d_objective(prev_parameters.copy()))\n",
    "        previous_step_size = abs(objective(parameters.copy()) - objective(prev_parameters.copy()))\n",
    "        current_it += 1        \n",
    "    minimizer = parameters.copy()\n",
    "    \n",
    "    return minimizer, current_it + 1"
   ]
  },
  {
   "cell_type": "markdown",
   "id": "1e351d0f",
   "metadata": {},
   "source": [
    "#### Gradient Descent with nesterov momentum"
   ]
  },
  {
   "cell_type": "code",
   "execution_count": 75,
   "id": "d8a05f1c",
   "metadata": {},
   "outputs": [],
   "source": [
    "def gradient_descent_nesterov(parameters, objective, d_objective, momentum, step_size, max_iterations, eps_change):\n",
    "    minimizer  = parameters.copy()\n",
    "    current_it = 0\n",
    "    \n",
    "    previous_step_size = eps_change + 1\n",
    "    theta = 0\n",
    "    while (previous_step_size > eps_change) and (current_it < max_iterations):\n",
    "        prev_parameters = parameters.copy()\n",
    "        theta = (momentum * theta) - (step_size * d_objective(parameters + (momentum * theta)))\n",
    "        parameters = parameters + theta\n",
    "        previous_step_size = abs(objective(parameters.copy()) - objective(prev_parameters.copy()))\n",
    "        current_it += 1        \n",
    "    minimizer = parameters.copy()\n",
    "\n",
    "    \n",
    "    return minimizer, current_it + 1"
   ]
  },
  {
   "cell_type": "markdown",
   "id": "cac3dfe6",
   "metadata": {},
   "source": [
    "#### Second order optimization"
   ]
  },
  {
   "cell_type": "code",
   "execution_count": 76,
   "id": "412120d1",
   "metadata": {},
   "outputs": [],
   "source": [
    "def second_order(parameters, objective, d_objective, dd_objective, step_size, max_iterations, eps_change):\n",
    "    minimizer  = parameters.copy()\n",
    "    current_it = 0\n",
    "    \n",
    "    previous_step_size = eps_change + 1\n",
    "    while previous_step_size > eps_change and current_it < max_iterations:\n",
    "        prev_parameters = parameters.copy()\n",
    "        parameters = parameters - (step_size * np.linalg.inv(dd_objective(parameters.copy())) @ d_objective(parameters.copy()))\n",
    "        previous_step_size = abs(objective(parameters.copy()) - objective(prev_parameters.copy()))\n",
    "        current_it += 1\n",
    "    minimizer = parameters.copy()\n",
    "    \n",
    "    \n",
    "    return minimizer, current_it + 1"
   ]
  },
  {
   "cell_type": "markdown",
   "id": "f88e3fed",
   "metadata": {},
   "source": [
    "## Clustering"
   ]
  },
  {
   "cell_type": "markdown",
   "id": "51896fc6",
   "metadata": {},
   "source": [
    "#### PCA"
   ]
  },
  {
   "cell_type": "code",
   "execution_count": 77,
   "id": "144c2b57",
   "metadata": {},
   "outputs": [],
   "source": [
    "def pca(X, ndims):\n",
    "    mean_vec = np.mean(X, axis=0)\n",
    "    cov_X = np.cov(X.T, bias=True)\n",
    "    eigen_values, eigen_vectors = np.linalg.eigh(cov_X)\n",
    "    order = np.argsort(eigen_values)[::-1]\n",
    "    eigen_vectors = eigen_vectors[:, order]\n",
    "    top_eig_vecs = eigen_vectors[:, range(ndims)]\n",
    "    top_eig_vecs = top_eig_vecs.T\n",
    "    \n",
    "    return mean_vec, top_eig_vecs"
   ]
  },
  {
   "cell_type": "code",
   "execution_count": 82,
   "id": "d6604f41",
   "metadata": {},
   "outputs": [
    {
     "data": {
      "image/png": "[encoded data removed]",
      "text/plain": [
       "<Figure size 432x288 with 10 Axes>"
      ]
     },
     "metadata": {
      "needs_background": "light"
     },
     "output_type": "display_data"
    }
   ],
   "source": [
    "mean_vec, eigen_vecs = pca(X_mnist, X_mnist.shape[1])\n",
    "plot_eigenvecs(eigen_vecs, 2, 5)"
   ]
  },
  {
   "cell_type": "markdown",
   "id": "ec575282",
   "metadata": {},
   "source": [
    "#### K-means"
   ]
  },
  {
   "cell_type": "code",
   "execution_count": 212,
   "id": "b0458e25",
   "metadata": {},
   "outputs": [],
   "source": [
    "def kmeans(X, k, max_iterations=1000):\n",
    "    rndm_mask = np.random.choice(range(X.shape[0]), k, replace=False)\n",
    "    centroids = X[rndm_mask]\n",
    "    assignments = np.zeros(len(X))\n",
    "    \n",
    "    for n in range(max_iterations):\n",
    "        for i,x in enumerate(X):\n",
    "            distances = ((x - centroids) ** 2).sum(axis = 1)\n",
    "            closest_centroid_index = np.argmin(distances)\n",
    "            assignments[i] = closest_centroid_index\n",
    "        \n",
    "        for i in range(len(centroids)):\n",
    "            cluster_data = X[assignments == i]\n",
    "            avg_centroids = cluster_data.mean(axis=0)\n",
    "            centroids[i] = avg_centroids\n",
    "            \n",
    "    return centroids"
   ]
  },
  {
   "cell_type": "code",
   "execution_count": 213,
   "id": "24f13984",
   "metadata": {},
   "outputs": [
    {
     "ename": "NameError",
     "evalue": "name 'plot_grey_image' is not defined",
     "output_type": "error",
     "traceback": [
      "\u001b[1;31m---------------------------------------------------------------------------\u001b[0m",
      "\u001b[1;31mNameError\u001b[0m                                 Traceback (most recent call last)",
      "Input \u001b[1;32mIn [213]\u001b[0m, in \u001b[0;36m<cell line: 2>\u001b[1;34m()\u001b[0m\n\u001b[0;32m      1\u001b[0m my_centroids \u001b[38;5;241m=\u001b[39m kmeans(X_mnist, \u001b[38;5;241m10\u001b[39m)\n\u001b[1;32m----> 2\u001b[0m \u001b[43mplot_grey_image\u001b[49m(my_centroids, \u001b[38;5;241m5\u001b[39m, \u001b[38;5;241m2\u001b[39m, \u001b[38;5;124m'\u001b[39m\u001b[38;5;124m'\u001b[39m)\n",
      "\u001b[1;31mNameError\u001b[0m: name 'plot_grey_image' is not defined"
     ]
    }
   ],
   "source": [
    "my_centroids = kmeans(X_mnist, 10)\n",
    "plot_grey_image(my_centroids, 5, 2, '')"
   ]
  },
  {
   "cell_type": "markdown",
   "id": "6ae8286e",
   "metadata": {},
   "source": [
    "## Non-Linear Classification"
   ]
  },
  {
   "cell_type": "code",
   "execution_count": 96,
   "id": "ca0ed20a",
   "metadata": {},
   "outputs": [],
   "source": [
    "def gd(X, Y, W,loss_function, loss_gradient, step_size, max_it):\n",
    "    current_it = 0\n",
    "    history = []\n",
    "    while (current_it < max_it):\n",
    "        linear_preds = np.c_[np.ones(X.shape[0]), X] @ W\n",
    "        history.append(loss_function(linear_preds, Y))\n",
    "        W = W - (step_size * loss_gradient(linear_preds, X, Y, W))\n",
    "        current_it += 1\n",
    "    best_w = W\n",
    "    \n",
    "    return history, best_w"
   ]
  },
  {
   "cell_type": "code",
   "execution_count": 97,
   "id": "5d18be96",
   "metadata": {},
   "outputs": [],
   "source": [
    "def sigmoid(z):\n",
    "    return 1 / (1 + np.exp(-z))\n",
    "\n",
    "def predict(X, W):\n",
    "    linear_preds = np.c_[np.ones(X.shape[0]), X] @ W\n",
    "    preds = sigmoid(linear_preds)\n",
    "    prediction = np.where(preds >= 0.5, 1, 0)    \n",
    "    return prediction"
   ]
  },
  {
   "cell_type": "code",
   "execution_count": 98,
   "id": "f835a8d8",
   "metadata": {},
   "outputs": [],
   "source": [
    "def logistic_loss(preds, targets):\n",
    "    preds = sigmoid(preds)\n",
    "    cost = (-targets * np.log(preds) - (1 - targets) * np.log(1 - preds)).mean()\n",
    "    return cost"
   ]
  },
  {
   "cell_type": "code",
   "execution_count": 99,
   "id": "de7e7d2e",
   "metadata": {},
   "outputs": [],
   "source": [
    "def dlogistic(preds, X, Y,W=[]):\n",
    "    preds = sigmoid(preds)\n",
    "    J = np.dot(np.c_[np.ones(X.shape[0]), X].T, (preds - Y)) / Y.shape[0]\n",
    "    return J"
   ]
  },
  {
   "cell_type": "code",
   "execution_count": 102,
   "id": "9e1267ee",
   "metadata": {},
   "outputs": [
    {
     "data": {
      "image/png": "[encoded data removed]",
      "text/plain": [
       "<Figure size 432x288 with 1 Axes>"
      ]
     },
     "metadata": {
      "needs_background": "light"
     },
     "output_type": "display_data"
    },
    {
     "data": {
      "image/png": "[encoded data removed]",
      "text/plain": [
       "<Figure size 432x288 with 1 Axes>"
      ]
     },
     "metadata": {
      "needs_background": "light"
     },
     "output_type": "display_data"
    }
   ],
   "source": [
    "my_W = np.ones(X_iris.shape[1]+1)\n",
    "my_X = X_iris\n",
    "my_Y = np.where(Y_iris == 0, 0, 1)\n",
    "my_history, my_best_W = gd(my_X, my_Y, my_W, logistic_loss, dlogistic, 0.001, 10000)\n",
    "log_ys = predict(X_iris_test, my_best_W)\n",
    "plot_confusion_matrix(log_ys, np.where(Y_iris_test == 0, 0, 1))\n",
    "plot_loss_curve(my_history)"
   ]
  },
  {
   "cell_type": "code",
   "execution_count": 104,
   "id": "cf99c217",
   "metadata": {},
   "outputs": [],
   "source": [
    "def hinge_loss(z, Y):\n",
    "    Y = np.where(Y==0, -1, 1)\n",
    "    avg = np.mean([max(0, 1-x*y) for x, y in zip(Y, z)])\n",
    "    return avg\n",
    "\n",
    "\n",
    "def dhinge(preds,X, Y, W=[]):\n",
    "    X = np.c_[np.ones(X.shape[0]), X]\n",
    "    Y = np.where(Y==0, -1, 1)\n",
    "    results = (Y * (X@W))\n",
    "    for i in range(0, len(results)):\n",
    "        if results[i] <= 1:\n",
    "            W = W - Y[i] * X[i]\n",
    "    J = W\n",
    "    return J"
   ]
  },
  {
   "cell_type": "code",
   "execution_count": 108,
   "id": "d939a4bb",
   "metadata": {},
   "outputs": [
    {
     "data": {
      "image/png": "[encoded data removed]",
      "text/plain": [
       "<Figure size 432x288 with 1 Axes>"
      ]
     },
     "metadata": {
      "needs_background": "light"
     },
     "output_type": "display_data"
    },
    {
     "data": {
      "image/png": "[encoded data removed]",
      "text/plain": [
       "<Figure size 432x288 with 1 Axes>"
      ]
     },
     "metadata": {
      "needs_background": "light"
     },
     "output_type": "display_data"
    }
   ],
   "source": [
    "rnd_W = np.random.rand(X_iris.shape[1]+1)\n",
    "my_history, my_best_W = gd(X_iris, np.where(Y_iris == 0, 0, 1), rnd_W, hinge_loss, dhinge, 1e-4, 1000)\n",
    "\n",
    "hinge_preds = predict(X_iris_test, my_best_W)\n",
    "plot_confusion_matrix(hinge_preds, np.where(Y_iris_test == 0, 0, 1))\n",
    "plot_loss_curve(my_history)"
   ]
  },
  {
   "cell_type": "markdown",
   "id": "d23b291c",
   "metadata": {},
   "source": [
    "## Neural networks"
   ]
  },
  {
   "cell_type": "code",
   "execution_count": 130,
   "id": "a191c9da",
   "metadata": {},
   "outputs": [],
   "source": [
    "def sigmoid(z):\n",
    "    return 1 / (1 + np.exp(-z))\n",
    "\n",
    "def dsigmoid(z):\n",
    "    return sigmoid(z) * (1 - sigmoid(z))"
   ]
  },
  {
   "cell_type": "code",
   "execution_count": 161,
   "id": "96129d39",
   "metadata": {},
   "outputs": [],
   "source": [
    "def relu(x):\n",
    "    return np.maximum(0,x)\n",
    "\n",
    "def drelu(x):\n",
    "    return 1 * (x > 0) "
   ]
  },
  {
   "cell_type": "code",
   "execution_count": 174,
   "id": "cb505254",
   "metadata": {},
   "outputs": [],
   "source": [
    "def softmax(preds):\n",
    "    return np.exp(preds) / np.sum(np.exp(preds), axis=0)"
   ]
  },
  {
   "cell_type": "code",
   "execution_count": 204,
   "id": "905a5d11",
   "metadata": {},
   "outputs": [],
   "source": [
    "def forward_pass(x, W, b):\n",
    "    z1 = np.dot(x, W[0]) + b[0]\n",
    "    a1 = sigmoid(z1)\n",
    "    \n",
    "    z2 = np.dot(a1, W[1]) + b[1]\n",
    "    a2 = sigmoid(z2)\n",
    "    \n",
    "    z3 = np.dot(a2, W[2]) + b[2]\n",
    "    a3 = sigmoid(z3)\n",
    "    \n",
    "    y_hat = a3\n",
    "    cache = (z1,a1,z2,a2,z3,a3)\n",
    "    \n",
    "    \n",
    "    return y_hat, cache"
   ]
  },
  {
   "cell_type": "code",
   "execution_count": 205,
   "id": "6cba1996",
   "metadata": {},
   "outputs": [],
   "source": [
    "def loss(preds, targets):\n",
    "    return np.mean(((preds - targets)) ** 2)\n",
    "\n",
    "def dloss(preds, target):\n",
    "    return preds - target"
   ]
  },
  {
   "cell_type": "code",
   "execution_count": 206,
   "id": "ac7eee8d",
   "metadata": {},
   "outputs": [],
   "source": [
    "def backward_pass(preds, targets, W, b, X, cache):\n",
    "    d_error = dloss(preds, targets) / 64\n",
    "    \n",
    "    J_w3 = (d_error.T @ cache[3]).T\n",
    "    J_w2 = (((d_error @ W[2].T) * drelu(cache[2])).T @ cache[1]).T\n",
    "    J_w1 =( ((((d_error @ W[2].T) * drelu(cache[2])) @ W[1].T ) * drelu(cache[0])).T @ X).T\n",
    "\n",
    "    J_b3 = np.sum(d_error,axis = 0)\n",
    "    J_b2 = np.sum((d_error @ W[2].T) * dsigmoid(cache[2]), axis=0)\n",
    "    J_b1 = np.sum((((d_error @ W[2].T) * dsigmoid(cache[2])) @  W[1].T) * dsigmoid(cache[0]) ,axis=0)\n",
    "    \n",
    "    return J_w3, J_w2, J_w1, J_b3, J_b2, J_b1"
   ]
  },
  {
   "cell_type": "code",
   "execution_count": 207,
   "id": "f66a6038",
   "metadata": {},
   "outputs": [],
   "source": [
    "def training(X, Y, W, b, step_size, max_it):\n",
    "    batch = 64\n",
    "    history = []\n",
    "    for iteration in range(max_it):\n",
    "        loss_ = 0\n",
    "        idx = np.arange(X.shape[0])\n",
    "        np.random.shuffle(idx)\n",
    "        X = X[idx]\n",
    "        Y = Y[idx]\n",
    "               \n",
    "        for i in range(int(X.shape[0] / batch)):\n",
    "            start = i*batch\n",
    "            end = (i+1)*batch\n",
    "            \n",
    "            x = X[start: end]\n",
    "            y = Y[start: end]\n",
    "            y_hat, cache = forward_pass(x,W,b)\n",
    "            J_w3, J_w2, J_w1, J_b3, J_b2, J_b1 = backward_pass(y_hat, y, W, b, x, cache)\n",
    "            W = list(W)\n",
    "            b = list(b)\n",
    "            W[2] = W[2] - step_size * J_w3\n",
    "            W[1] = W[1] - step_size * J_w2\n",
    "            W[0] = W[0] - step_size * J_w1\n",
    "            \n",
    "            b[2] = b[2] - step_size * J_b3\n",
    "            b[1] = b[1] - step_size * J_b2\n",
    "            b[0] = b[0] - step_size * J_b1\n",
    "            loss_ = loss_ + loss(y_hat, y)\n",
    "        history.append(loss_/int(X_mnist.shape[0]/batch))    \n",
    "    return W, b, history"
   ]
  },
  {
   "cell_type": "code",
   "execution_count": 208,
   "id": "6f50164c",
   "metadata": {},
   "outputs": [
    {
     "data": {
      "image/png": "[encoded data removed]",
      "text/plain": [
       "<Figure size 432x288 with 1 Axes>"
      ]
     },
     "metadata": {
      "needs_background": "light"
     },
     "output_type": "display_data"
    }
   ],
   "source": [
    "one_hot_y = np.zeros((Y_mnist.shape[0], 10))\n",
    "for i in range(Y_mnist.shape[0]):\n",
    "    one_hot_y[i][Y_mnist[i]] = 1\n",
    "\n",
    "W_1 = np.random.randn(X_mnist.shape[1],256)\n",
    "W_2 = np.random.randn(W_1.shape[1],128)\n",
    "W_3 = np.random.randn(W_2.shape[1],one_hot_y.shape[1])\n",
    "W_ = (W_1,W_2,W_3)\n",
    "\n",
    "b_1 = np.random.randn(W_1.shape[1],)\n",
    "b_2 = np.random.randn(W_2.shape[1],)\n",
    "b_3 = np.random.randn(W_3.shape[1],)\n",
    "b_ = (b_1,b_2,b_3)\n",
    "\n",
    "W, b, histories = training(X_mnist, one_hot_y , W_ , b_, 1e-3, 40)\n",
    "plot_loss_curve(histories)"
   ]
  },
  {
   "cell_type": "markdown",
   "id": "9f8ffb30",
   "metadata": {},
   "source": [
    "calculate accuracy of model by forward passing test set"
   ]
  },
  {
   "cell_type": "code",
   "execution_count": 211,
   "id": "293e9012",
   "metadata": {},
   "outputs": [
    {
     "name": "stdout",
     "output_type": "stream",
     "text": [
      "accuracy: 65.31%\n"
     ]
    }
   ],
   "source": [
    "y_hat, cache = forward_pass(X_mnist_test, W, b)\n",
    "preds = np.argmax(y_hat, axis=1)\n",
    "accuracy = np.where(preds == Y_mnist_test, 1, 0).mean()\n",
    "print(f'accuracy: {round(accuracy*100,2)}%')"
   ]
  },
  {
   "cell_type": "code",
   "execution_count": null,
   "id": "728a4fd5",
   "metadata": {},
   "outputs": [],
   "source": []
  }
 ],
 "metadata": {
  "kernelspec": {
   "display_name": "Python 3 (ipykernel)",
   "language": "python",
   "name": "python3"
  },
  "language_info": {
   "codemirror_mode": {
    "name": "ipython",
    "version": 3
   },
   "file_extension": ".py",
   "mimetype": "text/x-python",
   "name": "python",
   "nbconvert_exporter": "python",
   "pygments_lexer": "ipython3",
   "version": "3.9.12"
  }
 },
 "nbformat": 4,
 "nbformat_minor": 5
}
